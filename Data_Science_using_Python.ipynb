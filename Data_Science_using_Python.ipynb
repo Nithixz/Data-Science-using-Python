{
  "nbformat": 4,
  "nbformat_minor": 0,
  "metadata": {
    "colab": {
      "provenance": [],
      "toc_visible": true,
      "authorship_tag": "ABX9TyNa6DRnSykwRKHprxTpOw55",
      "include_colab_link": true
    },
    "kernelspec": {
      "name": "python3",
      "display_name": "Python 3"
    },
    "language_info": {
      "name": "python"
    }
  },
  "cells": [
    {
      "cell_type": "markdown",
      "metadata": {
        "id": "view-in-github",
        "colab_type": "text"
      },
      "source": [
        "<a href=\"https://colab.research.google.com/github/Nithixz/Data-Science-using-Python/blob/main/Data_Science_using_Python.ipynb\" target=\"_parent\"><img src=\"https://colab.research.google.com/assets/colab-badge.svg\" alt=\"Open In Colab\"/></a>"
      ]
    },
    {
      "cell_type": "markdown",
      "source": [
        "#Introduction to Data Science"
      ],
      "metadata": {
        "id": "tFU4ucQXHGht"
      }
    },
    {
      "cell_type": "markdown",
      "source": [
        "**Write a Python program to demonstrate The given year is leap year or not.**"
      ],
      "metadata": {
        "id": "OJRxZJ4iG8g1"
      }
    },
    {
      "cell_type": "code",
      "execution_count": null,
      "metadata": {
        "colab": {
          "base_uri": "https://localhost:8080/"
        },
        "id": "jigFzIAYEIgx",
        "outputId": "2a389de3-b06f-4944-92c3-f6561a1171e0"
      },
      "outputs": [
        {
          "output_type": "stream",
          "name": "stdout",
          "text": [
            "2023\n",
            "2023 is not a Leap Year \n"
          ]
        }
      ],
      "source": [
        "def ly():\n",
        "  leapYear = int(input(\"Enter a Year \\n\"))\n",
        "  if leapYear == 0:\n",
        "    print(\"Enter a VALID year\")\n",
        "    ly()\n",
        "  elif leapYear % 4 == 0 :\n",
        "    print(f\"{leapYear} is a Leap Year \")\n",
        "  else:\n",
        "    print(f\"{leapYear} is not a Leap Year \")\n",
        "ly()"
      ]
    },
    {
      "cell_type": "markdown",
      "source": [
        "**Write a python program to demonstrate Factorial of a number.**"
      ],
      "metadata": {
        "id": "Uglz45pSaClc"
      }
    },
    {
      "cell_type": "code",
      "source": [
        "num = int(input('Enter a number \\n'))\n",
        "factorial = 1\n",
        "if num == 0 :\n",
        "  factorial = 1\n",
        "else:\n",
        "  for i in range(num,1,-1):\n",
        "    factorial = factorial * i\n",
        "print(f\"Factorial of {num} is {factorial}\")"
      ],
      "metadata": {
        "colab": {
          "base_uri": "https://localhost:8080/"
        },
        "id": "25yviAuiaFOL",
        "outputId": "5a9026e9-7958-4e1c-8ecc-8044d0feb4d2"
      },
      "execution_count": null,
      "outputs": [
        {
          "output_type": "stream",
          "name": "stdout",
          "text": [
            "5\n",
            "Factorial of 5 is 120\n"
          ]
        }
      ]
    },
    {
      "cell_type": "code",
      "source": [
        "camera = {'sony':200,'nikon':200}\n",
        "camera.update({'canon':500})\n",
        "print(camera)"
      ],
      "metadata": {
        "id": "wJ8RCYWek0Go"
      },
      "execution_count": null,
      "outputs": []
    },
    {
      "cell_type": "code",
      "source": [
        "x = {12,3,4,5}\n",
        "y = {2,4,6,7,8}\n",
        "x.intersection(y)\n",
        "x.difference(y)"
      ],
      "metadata": {
        "colab": {
          "base_uri": "https://localhost:8080/"
        },
        "id": "F7Od3Rc9vxAz",
        "outputId": "9faf0db7-ae01-4d00-f1e5-ce8bcb2c6493"
      },
      "execution_count": null,
      "outputs": [
        {
          "output_type": "execute_result",
          "data": {
            "text/plain": [
              "{3, 5, 12}"
            ]
          },
          "metadata": {},
          "execution_count": 69
        }
      ]
    }
  ]
}